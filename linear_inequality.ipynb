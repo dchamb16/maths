{
 "cells": [
  {
   "cell_type": "markdown",
   "metadata": {},
   "source": [
    "# Linear Inequalities\n",
    "## Finding an Optimal Marketing Channel Mix\n",
    "\n",
    "In this problem, I am going to look at paid channels since they ahve a definite cost constraint. Here, we will look at the paid media sources: Facebook Ads (x), Bing Ads (y), and Google Ads (z). Historically, lead values for these channels have been approximately $35, $180, and $215, respectively. Within a given month we can spend up to 160 hours working on ads. It typically takes 0.25 hours of work for a Facebook lead, 0.015 hours for a Bing lead, and 0.01 hours for a Google lead. Facebook leads tend to cost $20/lead, Bing costs $180/lead, and Google costs $170/lead. Our current monthly budget is $120,000. Additionally, we need to keep a certain lead volume ever month to keep our Bing reps happy, so we try to have at least 1 Bing lead for every 10 Google leads. Below we will try to determine the optimal mix between the three channels."
   ]
  },
  {
   "cell_type": "code",
   "execution_count": 36,
   "metadata": {},
   "outputs": [],
   "source": [
    "# import libraries\n",
    "import numpy as np\n",
    "from scipy.optimize import linprog\n",
    "import plotly.express as px\n",
    "import matplotlib.pyplot as plt"
   ]
  },
  {
   "cell_type": "code",
   "execution_count": 2,
   "metadata": {},
   "outputs": [],
   "source": [
    "# set bounds\n",
    "x0_bound = (0, None)\n",
    "x1_bound = (0, None)\n",
    "x2_bound = (0, None)"
   ]
  },
  {
   "cell_type": "code",
   "execution_count": 3,
   "metadata": {},
   "outputs": [],
   "source": [
    "# set the objective function (m = 35x + 180y + 215z)\n",
    "c = [-35, -180, -215]"
   ]
  },
  {
   "cell_type": "code",
   "execution_count": 4,
   "metadata": {},
   "outputs": [],
   "source": [
    "# set up the left hand side of the constraints\n",
    "A = [\n",
    "    ## spend constraint (20x + 150y + 170z <= 120,000)\n",
    "    [20, 150, 170],\n",
    "    ## time constraint (0.25x + 0.015y + 0.01z <= 160)\n",
    "    [.25, .015, .01],\n",
    "    ## 1 Bing lead for every 10 Google leads (y = 10x)\n",
    "    [0, -10, 1]\n",
    "]"
   ]
  },
  {
   "cell_type": "code",
   "execution_count": 5,
   "metadata": {},
   "outputs": [],
   "source": [
    "# set up the right hand side of the constraints\n",
    "b = [120000, 160, 10]"
   ]
  },
  {
   "cell_type": "code",
   "execution_count": 6,
   "metadata": {},
   "outputs": [
    {
     "name": "stdout",
     "output_type": "stream",
     "text": [
      "     con: array([], dtype=float64)\n",
      "     fun: -157160.1499677584\n",
      " message: 'Optimization terminated successfully.'\n",
      "     nit: 5\n",
      "   slack: array([1.76661246e-01, 2.35747239e-04, 2.83084696e-05])\n",
      "  status: 0\n",
      " success: True\n",
      "       x: array([613.23355966,  57.31630106, 583.16298228])\n"
     ]
    }
   ],
   "source": [
    "# run the optimization and print the results\n",
    "reg = linprog(c, A, b, bounds=(x0_bound, x1_bound, x2_bound))\n",
    "print(reg)"
   ]
  },
  {
   "cell_type": "code",
   "execution_count": 19,
   "metadata": {},
   "outputs": [],
   "source": [
    "facebook, bing, google = np.floor(reg.x)"
   ]
  },
  {
   "cell_type": "code",
   "execution_count": 31,
   "metadata": {},
   "outputs": [],
   "source": [
    "revenue = np.sum([val * -1 for val in c ] * np.floor(reg.x))"
   ]
  },
  {
   "cell_type": "code",
   "execution_count": 34,
   "metadata": {},
   "outputs": [
    {
     "name": "stdout",
     "output_type": "stream",
     "text": [
      "For a max revenue of $157060, we should have 613 Facebook leads, 57 Bing leads, and 583 Google leads\n"
     ]
    }
   ],
   "source": [
    "print(f\"For a max revenue of ${int(revenue)}, we should have {int(facebook)} Facebook leads, {int(bing)} Bing leads, and {int(google)} Google leads\")"
   ]
  },
  {
   "cell_type": "markdown",
   "metadata": {},
   "source": [
    "## Solving Graphically (With Corner Points)\n",
    "\n",
    "Let's make a simplified version of the problem and solve it graphically, with corner points. In this version, we will look at paid social, `x`, (Facebook) and paid search, `y`, (Bing & Google). We will have a cost constraint (20x + 165y <= 120000) and a time constraint (0.25x + 0.1y <= 160)."
   ]
  },
  {
   "cell_type": "code",
   "execution_count": 39,
   "metadata": {},
   "outputs": [],
   "source": [
    "x = np.arange(0, 1001, 1)\n",
    "y1 = -(4/33) * x + (8000 / 11)\n",
    "y2 = -(2.5) * x + 1600"
   ]
  },
  {
   "cell_type": "code",
   "execution_count": 43,
   "metadata": {},
   "outputs": [
    {
     "data": {
      "image/png": "[encoded data removed]",
      "text/plain": [
       "<Figure size 720x360 with 1 Axes>"
      ]
     },
     "metadata": {
      "needs_background": "light"
     },
     "output_type": "display_data"
    }
   ],
   "source": [
    "plt.figure(figsize=(10, 5))\n",
    "plt.xlim(0, 1000)\n",
    "plt.ylim(0, 1000)\n",
    "plt.plot(x, y1, color='blue', label='Cost Constraint')\n",
    "plt.plot(x, y2, color='red', label='Time Constraint')\n",
    "plt.legend(['Cost Constraint (y = -4 / 33x + 8000 / 11)', 'Time Constraint (y = -2.5x + 1600)'], loc='best')\n",
    "plt.fill_between(x, y2, where=(y2<=y1), color='gray')\n",
    "plt.fill_between(x, y1, where=(y1 <= y2), color='gray')\n",
    "plt.show()"
   ]
  },
  {
   "cell_type": "code",
   "execution_count": 44,
   "metadata": {},
   "outputs": [],
   "source": [
    "x=[57600/157, 640, 0]\n",
    "y = [107200/157, 0, 120000/165]\n",
    "obj = np.matrix([20.0, 165.0])"
   ]
  },
  {
   "cell_type": "code",
   "execution_count": 45,
   "metadata": {},
   "outputs": [],
   "source": [
    "obj = np.transpose(obj)\n",
    "corners = np.matrix([x,y])\n",
    "corners = np.transpose(corners)"
   ]
  },
  {
   "cell_type": "code",
   "execution_count": 46,
   "metadata": {},
   "outputs": [],
   "source": [
    "results = np.dot(corners, obj)"
   ]
  },
  {
   "cell_type": "code",
   "execution_count": 49,
   "metadata": {},
   "outputs": [
    {
     "name": "stdout",
     "output_type": "stream",
     "text": [
      "Value of Objective Function at Each Corner Point: \n",
      "[[120000.]\n",
      " [ 12800.]\n",
      " [120000.]]\n"
     ]
    }
   ],
   "source": [
    "print(f'Value of Objective Function at Each Corner Point: \\n{results}')"
   ]
  },
  {
   "cell_type": "code",
   "execution_count": null,
   "metadata": {},
   "outputs": [],
   "source": []
  }
 ],
 "metadata": {
  "interpreter": {
   "hash": "7d33edb532463f45327e3173d853058e3cd398e90f203f82b7843ce24d756c04"
  },
  "kernelspec": {
   "display_name": "Python 3.10.1 64-bit ('maths': conda)",
   "language": "python",
   "name": "python3"
  },
  "language_info": {
   "codemirror_mode": {
    "name": "ipython",
    "version": 3
   },
   "file_extension": ".py",
   "mimetype": "text/x-python",
   "name": "python",
   "nbconvert_exporter": "python",
   "pygments_lexer": "ipython3",
   "version": "3.10.1"
  },
  "orig_nbformat": 4
 },
 "nbformat": 4,
 "nbformat_minor": 2
}
