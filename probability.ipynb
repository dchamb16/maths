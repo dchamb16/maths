{
 "cells": [
  {
   "cell_type": "markdown",
   "metadata": {},
   "source": [
    "# Probability"
   ]
  },
  {
   "cell_type": "markdown",
   "metadata": {},
   "source": [
    "## Playing Exploding Kittens\n",
    "### 1) What is the probability of drawing an exploding kitten in the first n draws\n",
    "\n",
    "My wife and I play exploding kittens together. In the normal deck there are 56 cards, but since there are only two of us, we remove the extra defuse and exploding kitten cards, taking the total down to 50. We each get 4 cards and a defuse card to start. This takes the starting deck down to 40. 1) What is the probability that I draw an exploding kitten in MY first 3 turns. "
   ]
  },
  {
   "cell_type": "code",
   "execution_count": 5,
   "metadata": {},
   "outputs": [],
   "source": [
    "def exp_kittens(starting_deck_size, num_players, n_exploding_kittens, n_draws):\n",
    "    \"\"\"\n",
    "    :param starting_deck_size: The number of cards in the deck at the start of the game.\n",
    "    :param num_players: The number of players in the game.\n",
    "    :param n_exploding_kittens: The number of exploding kittens in the game.\n",
    "    :param n_draws: The number of cards to draw.\n",
    "    :return: The probability of drawing an exploding kitten in the first n_draws.\n",
    "    \"\"\"\n",
    "    prob = 0.0\n",
    "    deck_size = starting_deck_size\n",
    "    for i in range(n_draws):\n",
    "        prob += n_exploding_kittens / deck_size\n",
    "        deck_size -= num_players\n",
    "    return print(f'The probability is {prob}')"
   ]
  },
  {
   "cell_type": "code",
   "execution_count": 6,
   "metadata": {},
   "outputs": [
    {
     "name": "stdout",
     "output_type": "stream",
     "text": [
      "The probability is 0.079093567251462\n"
     ]
    }
   ],
   "source": [
    "exp_kittens(40, 2, 1, 3)"
   ]
  },
  {
   "cell_type": "markdown",
   "metadata": {},
   "source": [
    "\n",
    "### 2) What is the probability of having a starting hand containing 4 Hairy Potato Cats"
   ]
  },
  {
   "cell_type": "code",
   "execution_count": 7,
   "metadata": {},
   "outputs": [],
   "source": [
    "import math"
   ]
  },
  {
   "cell_type": "code",
   "execution_count": 8,
   "metadata": {},
   "outputs": [],
   "source": [
    "def nCr(n, k):\n",
    "    \"\"\"\n",
    "    :param n: The number of cards in the deck.\n",
    "    :param k: The number of cards to draw.\n",
    "    :return: The probability of drawing k cards from a deck of n cards.\n",
    "    \"\"\"\n",
    "    result = math.factorial(n) / (math.factorial(n-k) * math.factorial(k))\n",
    "    return int(result)"
   ]
  },
  {
   "cell_type": "code",
   "execution_count": 13,
   "metadata": {},
   "outputs": [
    {
     "name": "stdout",
     "output_type": "stream",
     "text": [
      "The probability of starting with 4 hairy potato cats is 0.0012%\n"
     ]
    }
   ],
   "source": [
    "print(f'The probability of starting with 4 hairy potato cats is {round((1 / nCr(39, 4)) * 100, 4)}%')"
   ]
  }
 ],
 "metadata": {
  "interpreter": {
   "hash": "7d33edb532463f45327e3173d853058e3cd398e90f203f82b7843ce24d756c04"
  },
  "kernelspec": {
   "display_name": "Python 3.10.1 64-bit ('maths': conda)",
   "language": "python",
   "name": "python3"
  },
  "language_info": {
   "codemirror_mode": {
    "name": "ipython",
    "version": 3
   },
   "file_extension": ".py",
   "mimetype": "text/x-python",
   "name": "python",
   "nbconvert_exporter": "python",
   "pygments_lexer": "ipython3",
   "version": "3.10.1"
  },
  "orig_nbformat": 4
 },
 "nbformat": 4,
 "nbformat_minor": 2
}
